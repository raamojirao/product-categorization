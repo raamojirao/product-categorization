{
 "cells": [
  {
   "cell_type": "code",
   "execution_count": null,
   "id": "87b3170e-2ab2-45ec-83dd-544cb3cf8e12",
   "metadata": {},
   "outputs": [],
   "source": [
    "!pip3 install transformers"
   ]
  },
  {
   "cell_type": "code",
   "execution_count": 81,
   "id": "65d1d890-1c31-445f-b6fa-6dccda51d5f1",
   "metadata": {},
   "outputs": [],
   "source": [
    "import numpy as np\n",
    "import pandas as pd\n",
    "import sklearn\n",
    "import torch\n",
    "from sklearn.model_selection import train_test_split\n",
    "import matplotlib.pyplot as plt\n",
    "import shutil\n",
    "import sys"
   ]
  },
  {
   "cell_type": "code",
   "execution_count": 65,
   "id": "c94754b1-bd04-44a5-9d59-9cc96340d3a8",
   "metadata": {
    "scrolled": true
   },
   "outputs": [
    {
     "data": {
      "text/html": [
       "<div>\n",
       "<style scoped>\n",
       "    .dataframe tbody tr th:only-of-type {\n",
       "        vertical-align: middle;\n",
       "    }\n",
       "\n",
       "    .dataframe tbody tr th {\n",
       "        vertical-align: top;\n",
       "    }\n",
       "\n",
       "    .dataframe thead th {\n",
       "        text-align: right;\n",
       "    }\n",
       "</style>\n",
       "<table border=\"1\" class=\"dataframe\">\n",
       "  <thead>\n",
       "    <tr style=\"text-align: right;\">\n",
       "      <th></th>\n",
       "      <th>Category</th>\n",
       "      <th>Price</th>\n",
       "      <th>Title</th>\n",
       "      <th>Features</th>\n",
       "      <th>Description</th>\n",
       "      <th>Details</th>\n",
       "      <th>SKU</th>\n",
       "      <th>Manufacturer</th>\n",
       "    </tr>\n",
       "  </thead>\n",
       "  <tbody>\n",
       "    <tr>\n",
       "      <th>0</th>\n",
       "      <td>Automotive</td>\n",
       "      <td>NaN</td>\n",
       "      <td>Bosal 813-767 Exhaust Pipe</td>\n",
       "      <td>[Package Dimensions: 5.0 H x 44.0 L x 8.0 W (i...</td>\n",
       "      <td>[One piece, direct fit exhaust system componen...</td>\n",
       "      <td>{'Manufacturer': 'Bosal', 'Brand': 'Bosal', 'I...</td>\n",
       "      <td>813-767</td>\n",
       "      <td>Bosal</td>\n",
       "    </tr>\n",
       "    <tr>\n",
       "      <th>1</th>\n",
       "      <td>Automotive</td>\n",
       "      <td>NaN</td>\n",
       "      <td>NICEASY Bling Diamond Steering Wheel Cover for...</td>\n",
       "      <td>[【Fashionable Design】Fashion charming design o...</td>\n",
       "      <td>[【Fashionable Design】Fashion charming design o...</td>\n",
       "      <td>{'Manufacturer': 'Hi-Well', 'Brand': 'NICEASY'...</td>\n",
       "      <td>NEYSWC1</td>\n",
       "      <td>Hi-Well</td>\n",
       "    </tr>\n",
       "    <tr>\n",
       "      <th>2</th>\n",
       "      <td>Automotive</td>\n",
       "      <td>78.91</td>\n",
       "      <td>WAI World Power Systems World Power Systems DS...</td>\n",
       "      <td>[World Power Systems DST1835 Distributor, The ...</td>\n",
       "      <td>[Wai Distributors/Wiper Motors Dst1835 New Ign...</td>\n",
       "      <td>{'Manufacturer': 'WAI World Power Systems', 'B...</td>\n",
       "      <td>DST1835</td>\n",
       "      <td>WAI World Power Systems</td>\n",
       "    </tr>\n",
       "    <tr>\n",
       "      <th>3</th>\n",
       "      <td>Automotive</td>\n",
       "      <td>28.58</td>\n",
       "      <td>Tecumseh 40006 Ring Set Std</td>\n",
       "      <td>[]</td>\n",
       "      <td>[]</td>\n",
       "      <td>{'Brand': '1PK', 'Manufacturer Part Number': '...</td>\n",
       "      <td>Tecumseh</td>\n",
       "      <td>1PK</td>\n",
       "    </tr>\n",
       "    <tr>\n",
       "      <th>4</th>\n",
       "      <td>Musical Instruments</td>\n",
       "      <td>NaN</td>\n",
       "      <td>Nino Percussion Cajon Bag Black</td>\n",
       "      <td>[Carrying grip, Padded shoulder strap, Padded ...</td>\n",
       "      <td>[The NINO Cajon Bag is designed to supply reli...</td>\n",
       "      <td>{'Item Weight': '0.6 Kilograms', 'Product Dime...</td>\n",
       "      <td>MNCJB</td>\n",
       "      <td>Nino Percussion</td>\n",
       "    </tr>\n",
       "  </tbody>\n",
       "</table>\n",
       "</div>"
      ],
      "text/plain": [
       "              Category  Price  \\\n",
       "0           Automotive    NaN   \n",
       "1           Automotive    NaN   \n",
       "2           Automotive  78.91   \n",
       "3           Automotive  28.58   \n",
       "4  Musical Instruments    NaN   \n",
       "\n",
       "                                               Title  \\\n",
       "0                         Bosal 813-767 Exhaust Pipe   \n",
       "1  NICEASY Bling Diamond Steering Wheel Cover for...   \n",
       "2  WAI World Power Systems World Power Systems DS...   \n",
       "3                        Tecumseh 40006 Ring Set Std   \n",
       "4                    Nino Percussion Cajon Bag Black   \n",
       "\n",
       "                                            Features  \\\n",
       "0  [Package Dimensions: 5.0 H x 44.0 L x 8.0 W (i...   \n",
       "1  [【Fashionable Design】Fashion charming design o...   \n",
       "2  [World Power Systems DST1835 Distributor, The ...   \n",
       "3                                                 []   \n",
       "4  [Carrying grip, Padded shoulder strap, Padded ...   \n",
       "\n",
       "                                         Description  \\\n",
       "0  [One piece, direct fit exhaust system componen...   \n",
       "1  [【Fashionable Design】Fashion charming design o...   \n",
       "2  [Wai Distributors/Wiper Motors Dst1835 New Ign...   \n",
       "3                                                 []   \n",
       "4  [The NINO Cajon Bag is designed to supply reli...   \n",
       "\n",
       "                                             Details       SKU  \\\n",
       "0  {'Manufacturer': 'Bosal', 'Brand': 'Bosal', 'I...   813-767   \n",
       "1  {'Manufacturer': 'Hi-Well', 'Brand': 'NICEASY'...   NEYSWC1   \n",
       "2  {'Manufacturer': 'WAI World Power Systems', 'B...   DST1835   \n",
       "3  {'Brand': '1PK', 'Manufacturer Part Number': '...  Tecumseh   \n",
       "4  {'Item Weight': '0.6 Kilograms', 'Product Dime...     MNCJB   \n",
       "\n",
       "              Manufacturer  \n",
       "0                    Bosal  \n",
       "1                  Hi-Well  \n",
       "2  WAI World Power Systems  \n",
       "3                      1PK  \n",
       "4          Nino Percussion  "
      ]
     },
     "execution_count": 65,
     "metadata": {},
     "output_type": "execute_result"
    }
   ],
   "source": [
    "df = pd.read_json('products_labeled.json')\n",
    "df.head()"
   ]
  },
  {
   "cell_type": "code",
   "execution_count": 79,
   "id": "2d6ea337-342e-49d6-b6d3-4d3517c4ad7c",
   "metadata": {},
   "outputs": [
    {
     "name": "stdout",
     "output_type": "stream",
     "text": [
      "<class 'pandas.core.frame.DataFrame'>\n",
      "RangeIndex: 42429 entries, 0 to 42428\n",
      "Data columns (total 10 columns):\n",
      " #   Column        Non-Null Count  Dtype  \n",
      "---  ------        --------------  -----  \n",
      " 0   Category      42429 non-null  object \n",
      " 1   Price         17572 non-null  float64\n",
      " 2   Title         42429 non-null  object \n",
      " 3   Features      42429 non-null  object \n",
      " 4   Description   42429 non-null  object \n",
      " 5   Details       42429 non-null  object \n",
      " 6   SKU           42429 non-null  object \n",
      " 7   Manufacturer  42429 non-null  object \n",
      " 8   col1_encoded  42429 non-null  int8   \n",
      " 9   col2_encoded  42429 non-null  int16  \n",
      "dtypes: float64(1), int16(1), int8(1), object(7)\n",
      "memory usage: 2.7+ MB\n"
     ]
    }
   ],
   "source": [
    "df.info()"
   ]
  },
  {
   "cell_type": "markdown",
   "id": "75751d1c-649d-4c8e-8dec-74f47d6b36f5",
   "metadata": {},
   "source": [
    "## Training on the Title and Category column "
   ]
  },
  {
   "cell_type": "code",
   "execution_count": 4,
   "id": "1f17e3a1-353f-4209-b4e1-8638490ccd69",
   "metadata": {},
   "outputs": [
    {
     "data": {
      "text/html": [
       "<div>\n",
       "<style scoped>\n",
       "    .dataframe tbody tr th:only-of-type {\n",
       "        vertical-align: middle;\n",
       "    }\n",
       "\n",
       "    .dataframe tbody tr th {\n",
       "        vertical-align: top;\n",
       "    }\n",
       "\n",
       "    .dataframe thead th {\n",
       "        text-align: right;\n",
       "    }\n",
       "</style>\n",
       "<table border=\"1\" class=\"dataframe\">\n",
       "  <thead>\n",
       "    <tr style=\"text-align: right;\">\n",
       "      <th></th>\n",
       "      <th>Context</th>\n",
       "      <th>Category</th>\n",
       "    </tr>\n",
       "  </thead>\n",
       "  <tbody>\n",
       "    <tr>\n",
       "      <th>0</th>\n",
       "      <td>Bosal 813-767 Exhaust Pipe . Bosal</td>\n",
       "      <td>Automotive</td>\n",
       "    </tr>\n",
       "    <tr>\n",
       "      <th>1</th>\n",
       "      <td>NICEASY Bling Diamond Steering Wheel Cover for...</td>\n",
       "      <td>Automotive</td>\n",
       "    </tr>\n",
       "    <tr>\n",
       "      <th>2</th>\n",
       "      <td>WAI World Power Systems World Power Systems DS...</td>\n",
       "      <td>Automotive</td>\n",
       "    </tr>\n",
       "    <tr>\n",
       "      <th>3</th>\n",
       "      <td>Tecumseh 40006 Ring Set Std . 1PK</td>\n",
       "      <td>Automotive</td>\n",
       "    </tr>\n",
       "    <tr>\n",
       "      <th>4</th>\n",
       "      <td>Nino Percussion Cajon Bag Black . Nino Percussion</td>\n",
       "      <td>Musical Instruments</td>\n",
       "    </tr>\n",
       "  </tbody>\n",
       "</table>\n",
       "</div>"
      ],
      "text/plain": [
       "                                             Context             Category\n",
       "0                 Bosal 813-767 Exhaust Pipe . Bosal           Automotive\n",
       "1  NICEASY Bling Diamond Steering Wheel Cover for...           Automotive\n",
       "2  WAI World Power Systems World Power Systems DS...           Automotive\n",
       "3                  Tecumseh 40006 Ring Set Std . 1PK           Automotive\n",
       "4  Nino Percussion Cajon Bag Black . Nino Percussion  Musical Instruments"
      ]
     },
     "execution_count": 4,
     "metadata": {},
     "output_type": "execute_result"
    }
   ],
   "source": [
    "# combining 'title' and 'manufacturer' columns to get more context\n",
    "df['Context'] = df['Title'] + \" . \" + df['Manufacturer']\n",
    "df = df[['Context', 'Category']]\n",
    "df.head()"
   ]
  },
  {
   "cell_type": "markdown",
   "id": "dc6a1756-e2f3-445f-8741-7846958b462e",
   "metadata": {},
   "source": [
    "## Looking at the Title distribution"
   ]
  },
  {
   "cell_type": "code",
   "execution_count": 5,
   "id": "3e1ace79-d49e-4f5a-84be-443b98356ea9",
   "metadata": {},
   "outputs": [
    {
     "data": {
      "text/plain": [
       "<Axes: ylabel='Frequency'>"
      ]
     },
     "execution_count": 5,
     "metadata": {},
     "output_type": "execute_result"
    },
    {
     "data": {
      "image/png": "[encoded data removed]",
      "text/plain": [
       "<Figure size 640x480 with 1 Axes>"
      ]
     },
     "metadata": {},
     "output_type": "display_data"
    }
   ],
   "source": [
    "df['Context'].str.len().plot.hist(bins=50)"
   ]
  },
  {
   "cell_type": "code",
   "execution_count": 6,
   "id": "18787ddc-8689-4a80-9f51-5fff936dd869",
   "metadata": {},
   "outputs": [
    {
     "data": {
      "text/plain": [
       "Category\n",
       "Fashion                         6420\n",
       "Home                            5060\n",
       "Automotive                      4651\n",
       "Tools & Home Improvement        3245\n",
       "Sports & Outdoors               2810\n",
       "All Beauty                      2147\n",
       "Office Products                 2101\n",
       "Toys & Games                    2012\n",
       "Cell Phones & Accessories       1890\n",
       "Industrial & Scientific         1591\n",
       "Grocery                         1543\n",
       "All Electronics                 1463\n",
       "Computers                       1275\n",
       "Arts, Crafts & Sewing           1082\n",
       "Health & Personal Care           929\n",
       "Pet Supplies                     787\n",
       "Camera & Photo                   679\n",
       "Digital Music                    492\n",
       "Musical Instruments              467\n",
       "Home Audio & Theater             433\n",
       "Baby                             332\n",
       "Appliances                       249\n",
       "Video Games                      211\n",
       "Premium Beauty                   200\n",
       "Car Electronics                  146\n",
       "Portable Audio & Accessories      73\n",
       "GPS & Navigation                  73\n",
       "Software                          68\n",
       "Name: count, dtype: int64"
      ]
     },
     "execution_count": 6,
     "metadata": {},
     "output_type": "execute_result"
    }
   ],
   "source": [
    "df['Category'].value_counts()"
   ]
  },
  {
   "cell_type": "markdown",
   "id": "6bcb5b0a-3c93-4b2c-9064-1739c3d941c2",
   "metadata": {},
   "source": [
    "## Preprocessing - encoding on the category column"
   ]
  },
  {
   "cell_type": "code",
   "execution_count": 7,
   "id": "0491c193-3119-4a7b-93fb-472bbc6e4dff",
   "metadata": {},
   "outputs": [
    {
     "data": {
      "text/html": [
       "<div>\n",
       "<style scoped>\n",
       "    .dataframe tbody tr th:only-of-type {\n",
       "        vertical-align: middle;\n",
       "    }\n",
       "\n",
       "    .dataframe tbody tr th {\n",
       "        vertical-align: top;\n",
       "    }\n",
       "\n",
       "    .dataframe thead th {\n",
       "        text-align: right;\n",
       "    }\n",
       "</style>\n",
       "<table border=\"1\" class=\"dataframe\">\n",
       "  <thead>\n",
       "    <tr style=\"text-align: right;\">\n",
       "      <th></th>\n",
       "      <th>Context</th>\n",
       "      <th>All Beauty</th>\n",
       "      <th>All Electronics</th>\n",
       "      <th>Appliances</th>\n",
       "      <th>Arts, Crafts &amp; Sewing</th>\n",
       "      <th>Automotive</th>\n",
       "      <th>Baby</th>\n",
       "      <th>Camera &amp; Photo</th>\n",
       "      <th>Car Electronics</th>\n",
       "      <th>Cell Phones &amp; Accessories</th>\n",
       "      <th>...</th>\n",
       "      <th>Musical Instruments</th>\n",
       "      <th>Office Products</th>\n",
       "      <th>Pet Supplies</th>\n",
       "      <th>Portable Audio &amp; Accessories</th>\n",
       "      <th>Premium Beauty</th>\n",
       "      <th>Software</th>\n",
       "      <th>Sports &amp; Outdoors</th>\n",
       "      <th>Tools &amp; Home Improvement</th>\n",
       "      <th>Toys &amp; Games</th>\n",
       "      <th>Video Games</th>\n",
       "    </tr>\n",
       "  </thead>\n",
       "  <tbody>\n",
       "    <tr>\n",
       "      <th>0</th>\n",
       "      <td>Bosal 813-767 Exhaust Pipe . Bosal</td>\n",
       "      <td>0</td>\n",
       "      <td>0</td>\n",
       "      <td>0</td>\n",
       "      <td>0</td>\n",
       "      <td>1</td>\n",
       "      <td>0</td>\n",
       "      <td>0</td>\n",
       "      <td>0</td>\n",
       "      <td>0</td>\n",
       "      <td>...</td>\n",
       "      <td>0</td>\n",
       "      <td>0</td>\n",
       "      <td>0</td>\n",
       "      <td>0</td>\n",
       "      <td>0</td>\n",
       "      <td>0</td>\n",
       "      <td>0</td>\n",
       "      <td>0</td>\n",
       "      <td>0</td>\n",
       "      <td>0</td>\n",
       "    </tr>\n",
       "    <tr>\n",
       "      <th>1</th>\n",
       "      <td>NICEASY Bling Diamond Steering Wheel Cover for...</td>\n",
       "      <td>0</td>\n",
       "      <td>0</td>\n",
       "      <td>0</td>\n",
       "      <td>0</td>\n",
       "      <td>1</td>\n",
       "      <td>0</td>\n",
       "      <td>0</td>\n",
       "      <td>0</td>\n",
       "      <td>0</td>\n",
       "      <td>...</td>\n",
       "      <td>0</td>\n",
       "      <td>0</td>\n",
       "      <td>0</td>\n",
       "      <td>0</td>\n",
       "      <td>0</td>\n",
       "      <td>0</td>\n",
       "      <td>0</td>\n",
       "      <td>0</td>\n",
       "      <td>0</td>\n",
       "      <td>0</td>\n",
       "    </tr>\n",
       "    <tr>\n",
       "      <th>2</th>\n",
       "      <td>WAI World Power Systems World Power Systems DS...</td>\n",
       "      <td>0</td>\n",
       "      <td>0</td>\n",
       "      <td>0</td>\n",
       "      <td>0</td>\n",
       "      <td>1</td>\n",
       "      <td>0</td>\n",
       "      <td>0</td>\n",
       "      <td>0</td>\n",
       "      <td>0</td>\n",
       "      <td>...</td>\n",
       "      <td>0</td>\n",
       "      <td>0</td>\n",
       "      <td>0</td>\n",
       "      <td>0</td>\n",
       "      <td>0</td>\n",
       "      <td>0</td>\n",
       "      <td>0</td>\n",
       "      <td>0</td>\n",
       "      <td>0</td>\n",
       "      <td>0</td>\n",
       "    </tr>\n",
       "    <tr>\n",
       "      <th>3</th>\n",
       "      <td>Tecumseh 40006 Ring Set Std . 1PK</td>\n",
       "      <td>0</td>\n",
       "      <td>0</td>\n",
       "      <td>0</td>\n",
       "      <td>0</td>\n",
       "      <td>1</td>\n",
       "      <td>0</td>\n",
       "      <td>0</td>\n",
       "      <td>0</td>\n",
       "      <td>0</td>\n",
       "      <td>...</td>\n",
       "      <td>0</td>\n",
       "      <td>0</td>\n",
       "      <td>0</td>\n",
       "      <td>0</td>\n",
       "      <td>0</td>\n",
       "      <td>0</td>\n",
       "      <td>0</td>\n",
       "      <td>0</td>\n",
       "      <td>0</td>\n",
       "      <td>0</td>\n",
       "    </tr>\n",
       "    <tr>\n",
       "      <th>4</th>\n",
       "      <td>Nino Percussion Cajon Bag Black . Nino Percussion</td>\n",
       "      <td>0</td>\n",
       "      <td>0</td>\n",
       "      <td>0</td>\n",
       "      <td>0</td>\n",
       "      <td>0</td>\n",
       "      <td>0</td>\n",
       "      <td>0</td>\n",
       "      <td>0</td>\n",
       "      <td>0</td>\n",
       "      <td>...</td>\n",
       "      <td>1</td>\n",
       "      <td>0</td>\n",
       "      <td>0</td>\n",
       "      <td>0</td>\n",
       "      <td>0</td>\n",
       "      <td>0</td>\n",
       "      <td>0</td>\n",
       "      <td>0</td>\n",
       "      <td>0</td>\n",
       "      <td>0</td>\n",
       "    </tr>\n",
       "  </tbody>\n",
       "</table>\n",
       "<p>5 rows × 29 columns</p>\n",
       "</div>"
      ],
      "text/plain": [
       "                                             Context  All Beauty  \\\n",
       "0                 Bosal 813-767 Exhaust Pipe . Bosal           0   \n",
       "1  NICEASY Bling Diamond Steering Wheel Cover for...           0   \n",
       "2  WAI World Power Systems World Power Systems DS...           0   \n",
       "3                  Tecumseh 40006 Ring Set Std . 1PK           0   \n",
       "4  Nino Percussion Cajon Bag Black . Nino Percussion           0   \n",
       "\n",
       "   All Electronics  Appliances  Arts, Crafts & Sewing  Automotive  Baby  \\\n",
       "0                0           0                      0           1     0   \n",
       "1                0           0                      0           1     0   \n",
       "2                0           0                      0           1     0   \n",
       "3                0           0                      0           1     0   \n",
       "4                0           0                      0           0     0   \n",
       "\n",
       "   Camera & Photo  Car Electronics  Cell Phones & Accessories  ...  \\\n",
       "0               0                0                          0  ...   \n",
       "1               0                0                          0  ...   \n",
       "2               0                0                          0  ...   \n",
       "3               0                0                          0  ...   \n",
       "4               0                0                          0  ...   \n",
       "\n",
       "   Musical Instruments  Office Products  Pet Supplies  \\\n",
       "0                    0                0             0   \n",
       "1                    0                0             0   \n",
       "2                    0                0             0   \n",
       "3                    0                0             0   \n",
       "4                    1                0             0   \n",
       "\n",
       "   Portable Audio & Accessories  Premium Beauty  Software  Sports & Outdoors  \\\n",
       "0                             0               0         0                  0   \n",
       "1                             0               0         0                  0   \n",
       "2                             0               0         0                  0   \n",
       "3                             0               0         0                  0   \n",
       "4                             0               0         0                  0   \n",
       "\n",
       "   Tools & Home Improvement  Toys & Games  Video Games  \n",
       "0                         0             0            0  \n",
       "1                         0             0            0  \n",
       "2                         0             0            0  \n",
       "3                         0             0            0  \n",
       "4                         0             0            0  \n",
       "\n",
       "[5 rows x 29 columns]"
      ]
     },
     "execution_count": 7,
     "metadata": {},
     "output_type": "execute_result"
    }
   ],
   "source": [
    "# encoding the category column\n",
    "df = pd.get_dummies(df, columns=[\"Category\"], prefix='', prefix_sep='', dtype=int)\n",
    "df.head()"
   ]
  },
  {
   "cell_type": "code",
   "execution_count": 8,
   "id": "756f2112-1ae1-4db1-9438-c45c58c7ecf8",
   "metadata": {},
   "outputs": [],
   "source": [
    "target_list = [\n",
    " 'All Beauty',\n",
    " 'All Electronics',\n",
    " 'Appliances',\n",
    " 'Arts, Crafts & Sewing',\n",
    " 'Automotive',\n",
    " 'Baby',\n",
    " 'Camera & Photo',\n",
    " 'Car Electronics',\n",
    " 'Cell Phones & Accessories',\n",
    " 'Computers',\n",
    " 'Digital Music',\n",
    " 'Fashion',\n",
    " 'GPS & Navigation',\n",
    " 'Grocery',\n",
    " 'Health & Personal Care',\n",
    " 'Home',\n",
    " 'Home Audio & Theater',\n",
    " 'Industrial & Scientific',\n",
    " 'Musical Instruments',\n",
    " 'Office Products',\n",
    " 'Pet Supplies',\n",
    " 'Portable Audio & Accessories',\n",
    " 'Premium Beauty',\n",
    " 'Software',\n",
    " 'Sports & Outdoors',\n",
    " 'Tools & Home Improvement',\n",
    " 'Toys & Games',\n",
    " 'Video Games'\n",
    "]"
   ]
  },
  {
   "cell_type": "markdown",
   "id": "2f07010a-b86c-4aa2-8fc9-17d4e92408e4",
   "metadata": {},
   "source": [
    "## Setting the hyperparameters"
   ]
  },
  {
   "cell_type": "code",
   "execution_count": 9,
   "id": "d394dc2a-14e6-430a-8b32-44be7fbd399c",
   "metadata": {},
   "outputs": [],
   "source": [
    "# hyperparameters\n",
    "MAX_LEN = 512\n",
    "TRAIN_BATCH_SIZE = 32\n",
    "VALID_BATCH_SIZE = 32\n",
    "EPOCHS = 3\n",
    "LEARNING_RATE = 1e-05"
   ]
  },
  {
   "cell_type": "code",
   "execution_count": 10,
   "id": "209d97dc-0c0c-48e7-b7ce-921bf9dc40e6",
   "metadata": {},
   "outputs": [
    {
     "name": "stderr",
     "output_type": "stream",
     "text": [
      "/Users/raenugul/Library/Python/3.9/lib/python/site-packages/urllib3/__init__.py:34: NotOpenSSLWarning: urllib3 v2.0 only supports OpenSSL 1.1.1+, currently the 'ssl' module is compiled with 'LibreSSL 2.8.3'. See: https://github.com/urllib3/urllib3/issues/3020\n",
      "  warnings.warn(\n"
     ]
    }
   ],
   "source": [
    "from transformers import BertTokenizer, BertModel\n",
    "tokenizer = BertTokenizer.from_pretrained(\"bert-base-uncased\")"
   ]
  },
  {
   "cell_type": "code",
   "execution_count": 11,
   "id": "1acb6356-a960-4c5e-a741-edad83b8a1e5",
   "metadata": {},
   "outputs": [],
   "source": [
    "class CustomDataset(torch.utils.data.Dataset):\n",
    "    def __init__(self, df, tokenizer, max_len):\n",
    "        self.df = df\n",
    "        self.tokenizer = tokenizer\n",
    "        self.max_len = max_len\n",
    "        self.title = self.df['Context']\n",
    "        self.targets = self.df[target_list].values\n",
    "\n",
    "    def __len__(self):\n",
    "        return len(self.title)\n",
    "\n",
    "    def __getitem__(self, index):\n",
    "        title = str(self.title[index])\n",
    "        title = \" \".join(title.split())\n",
    "\n",
    "        inputs = self.tokenizer.encode_plus(\n",
    "            title,\n",
    "            None,\n",
    "            add_special_tokens=True,\n",
    "            max_length=self.max_len,\n",
    "            padding='max_length',\n",
    "            return_token_type_ids=True,\n",
    "            truncation=True,\n",
    "            return_attention_mask=True,\n",
    "            return_tensors='pt'\n",
    "        )\n",
    "\n",
    "        return {\n",
    "            'input_ids': inputs['input_ids'].flatten(),\n",
    "            'attention_mask': inputs['attention_mask'].flatten(),\n",
    "            'token_type_ids': inputs['token_type_ids'].flatten(),\n",
    "            'targets': torch.FloatTensor(self.targets[index])\n",
    "        }\n",
    "        "
   ]
  },
  {
   "cell_type": "code",
   "execution_count": 12,
   "id": "9e2df0f6-2cd3-4f1f-b396-77ca40d89180",
   "metadata": {},
   "outputs": [],
   "source": [
    "train_df, val_df = train_test_split(df, test_size=0.2, random_state=42)"
   ]
  },
  {
   "cell_type": "code",
   "execution_count": 13,
   "id": "51ecc20f-edd0-4e98-a55d-08d65fd6db04",
   "metadata": {},
   "outputs": [],
   "source": [
    "train_dataset = CustomDataset(df, tokenizer, MAX_LEN)\n",
    "valid_dataset = CustomDataset(val_df, tokenizer, MAX_LEN)"
   ]
  },
  {
   "cell_type": "code",
   "execution_count": 14,
   "id": "b1a7e76f-7f5d-4e69-8481-f8a9f648947d",
   "metadata": {},
   "outputs": [],
   "source": [
    "train_data_loader = torch.utils.data.DataLoader(\n",
    "    train_dataset,\n",
    "    shuffle=True,\n",
    "    batch_size=TRAIN_BATCH_SIZE,\n",
    "    num_workers=0\n",
    ")\n",
    "val_data_loader = torch.utils.data.DataLoader(\n",
    "    valid_dataset, \n",
    "    batch_size=VALID_BATCH_SIZE,\n",
    "    shuffle=False,\n",
    "    num_workers=0\n",
    ")"
   ]
  },
  {
   "cell_type": "code",
   "execution_count": 15,
   "id": "c13439ac-5c49-4ad0-a95c-b9300502a64c",
   "metadata": {},
   "outputs": [],
   "source": [
    "device = torch.device('cuda') if torch.cuda.is_available() else torch.device('cpu')"
   ]
  },
  {
   "cell_type": "code",
   "execution_count": 16,
   "id": "cdd66efa-ab89-4b2a-b9bb-329a07c7d962",
   "metadata": {},
   "outputs": [],
   "source": [
    "def save_ckp(state, is_best, checkpoint_path, best_model_path):\n",
    "    f_path = checkpoint_path\n",
    "    torch.save(state, f_path)\n",
    "    if is_best:\n",
    "        best_fpath = best_model_path\n",
    "        shutil.copyfile(f_path, best_fpath)"
   ]
  },
  {
   "cell_type": "code",
   "execution_count": 17,
   "id": "c23f3946-5a5a-4acf-a283-99634baf8c6b",
   "metadata": {},
   "outputs": [
    {
     "data": {
      "text/plain": [
       "BERTClass(\n",
       "  (bert_model): BertModel(\n",
       "    (embeddings): BertEmbeddings(\n",
       "      (word_embeddings): Embedding(30522, 768, padding_idx=0)\n",
       "      (position_embeddings): Embedding(512, 768)\n",
       "      (token_type_embeddings): Embedding(2, 768)\n",
       "      (LayerNorm): LayerNorm((768,), eps=1e-12, elementwise_affine=True)\n",
       "      (dropout): Dropout(p=0.1, inplace=False)\n",
       "    )\n",
       "    (encoder): BertEncoder(\n",
       "      (layer): ModuleList(\n",
       "        (0-11): 12 x BertLayer(\n",
       "          (attention): BertAttention(\n",
       "            (self): BertSdpaSelfAttention(\n",
       "              (query): Linear(in_features=768, out_features=768, bias=True)\n",
       "              (key): Linear(in_features=768, out_features=768, bias=True)\n",
       "              (value): Linear(in_features=768, out_features=768, bias=True)\n",
       "              (dropout): Dropout(p=0.1, inplace=False)\n",
       "            )\n",
       "            (output): BertSelfOutput(\n",
       "              (dense): Linear(in_features=768, out_features=768, bias=True)\n",
       "              (LayerNorm): LayerNorm((768,), eps=1e-12, elementwise_affine=True)\n",
       "              (dropout): Dropout(p=0.1, inplace=False)\n",
       "            )\n",
       "          )\n",
       "          (intermediate): BertIntermediate(\n",
       "            (dense): Linear(in_features=768, out_features=3072, bias=True)\n",
       "            (intermediate_act_fn): GELUActivation()\n",
       "          )\n",
       "          (output): BertOutput(\n",
       "            (dense): Linear(in_features=3072, out_features=768, bias=True)\n",
       "            (LayerNorm): LayerNorm((768,), eps=1e-12, elementwise_affine=True)\n",
       "            (dropout): Dropout(p=0.1, inplace=False)\n",
       "          )\n",
       "        )\n",
       "      )\n",
       "    )\n",
       "    (pooler): BertPooler(\n",
       "      (dense): Linear(in_features=768, out_features=768, bias=True)\n",
       "      (activation): Tanh()\n",
       "    )\n",
       "  )\n",
       "  (dropout): Dropout(p=0.3, inplace=False)\n",
       "  (linear): Linear(in_features=768, out_features=28, bias=True)\n",
       ")"
      ]
     },
     "execution_count": 17,
     "metadata": {},
     "output_type": "execute_result"
    }
   ],
   "source": [
    "import torch.nn as nn\n",
    "class BERTClass(nn.Module):\n",
    "    def __init__(self):\n",
    "        super(BERTClass, self).__init__()\n",
    "        self.bert_model = BertModel.from_pretrained('bert-base-uncased', return_dict=True)\n",
    "        self.dropout = nn.Dropout(0.3)\n",
    "        self.linear = nn.Linear(768, len(target_list))\n",
    "\n",
    "    def forward(self, input_ids, attention_mask, token_type_ids):\n",
    "        output = self.bert_model(input_ids, attention_mask, token_type_ids)\n",
    "        output_dropout = self.dropout(output.pooler_output)\n",
    "        output = self.linear(output_dropout)\n",
    "        return output\n",
    "\n",
    "model = BERTClass()\n",
    "model.to(device)"
   ]
  },
  {
   "cell_type": "code",
   "execution_count": 18,
   "id": "77076bee-25b5-40ef-b80f-5732f8b64a99",
   "metadata": {},
   "outputs": [],
   "source": [
    "def loss_fn(outputs, targets):\n",
    "    return nn.BCEWithLogitsLoss()(outputs, targets)\n",
    "optimizer = torch.optim.Adam(params=model.parameters(), lr=LEARNING_RATE)"
   ]
  },
  {
   "cell_type": "code",
   "execution_count": 19,
   "id": "234c86c6-0444-4a53-a6ec-b02bd18bf68f",
   "metadata": {},
   "outputs": [],
   "source": [
    "val_targets=[]\n",
    "val_outputs=[]"
   ]
  },
  {
   "cell_type": "code",
   "execution_count": 89,
   "id": "988f6317-27f9-4329-8c24-49fdc0a35529",
   "metadata": {},
   "outputs": [],
   "source": [
    "def train_model(n_epochs, training_loader, validation_loader, model, \n",
    "                optimizer, checkpoint_path, best_model_path):\n",
    "   \n",
    "  # initialize tracker for minimum validation loss\n",
    "  valid_loss_min = np.Inf\n",
    "   \n",
    " \n",
    "  for epoch in range(1, n_epochs+1):\n",
    "    train_loss = 0\n",
    "    valid_loss = 0\n",
    "\n",
    "    model.train()\n",
    "    print('############# Epoch {}: Training Start   #############'.format(epoch))\n",
    "    for batch_idx, data in enumerate(training_loader):\n",
    "        ids = data['input_ids'].to(device, dtype = torch.long)\n",
    "        mask = data['attention_mask'].to(device, dtype = torch.long)\n",
    "        token_type_ids = data['token_type_ids'].to(device, dtype = torch.long)\n",
    "        targets = data['targets'].to(device, dtype = torch.float)\n",
    "        outputs = model(ids, mask, token_type_ids)\n",
    "        optimizer.zero_grad()\n",
    "        loss = loss_fn(outputs, targets)\n",
    "        optimizer.zero_grad()\n",
    "        loss.backward()\n",
    "        optimizer.step()\n",
    "        train_loss = train_loss + ((1 / (batch_idx + 1)) * (loss.item() - train_loss))\n",
    "    \n",
    "    print('############# Epoch {}: Training End     #############'.format(epoch))\n",
    "    train_loss = train_loss/len(training_loader)\n",
    "    print('Epoch: {} \\tAvgerage Loss: {:.6f}'.format(\n",
    "            epoch, \n",
    "            train_loss,\n",
    "            ))\n",
    "      \n",
    "      # create checkpoint variable and add important data\n",
    "    checkpoint = {\n",
    "            'epoch': epoch + 1,\n",
    "            'valid_loss_min': valid_loss,\n",
    "            'state_dict': model.state_dict(),\n",
    "            'optimizer': optimizer.state_dict()\n",
    "    }\n",
    "        \n",
    "    # save checkpoint\n",
    "    save_ckp(checkpoint, False, checkpoint_path, best_model_path)\n",
    "    print('############# Epoch {}  Done   #############\\n'.format(epoch))\n",
    "  return model"
   ]
  },
  {
   "cell_type": "code",
   "execution_count": 21,
   "id": "1b8deef7-504a-45d9-818c-d83075a3fe92",
   "metadata": {},
   "outputs": [],
   "source": [
    "ckpt_path = \"/curr_ckpt\"\n",
    "best_model_path = \"/best_model.pt\""
   ]
  },
  {
   "cell_type": "code",
   "execution_count": 22,
   "id": "a78eeb4f-480e-4f17-8e00-3781ae688203",
   "metadata": {},
   "outputs": [
    {
     "name": "stdout",
     "output_type": "stream",
     "text": [
      "############# Epoch 1: Training Start   #############\n",
      "############# Epoch 1: Training End     #############\n",
      "Epoch: 1 \tAvgerage Loss: 0.000118\n",
      "############# Epoch 1  Done   #############\n",
      "\n",
      "############# Epoch 2: Training Start   #############\n",
      "############# Epoch 2: Training End     #############\n",
      "Epoch: 2 \tAvgerage Loss: 0.000058\n",
      "############# Epoch 2  Done   #############\n",
      "\n",
      "############# Epoch 3: Training Start   #############\n",
      "############# Epoch 3: Training End     #############\n",
      "Epoch: 3 \tAvgerage Loss: 0.000043\n",
      "############# Epoch 3  Done   #############\n",
      "\n"
     ]
    }
   ],
   "source": [
    "trained_model = train_model(EPOCHS, train_data_loader, val_data_loader, model, optimizer, ckpt_path, best_model_path)"
   ]
  },
  {
   "cell_type": "markdown",
   "id": "91c6795e-d972-49f9-9bc4-310dcbcdacf4",
   "metadata": {},
   "source": [
    "## Calculating accuracy on the validation dataset"
   ]
  },
  {
   "cell_type": "code",
   "execution_count": 27,
   "id": "a3087f01-144a-4d9d-ad83-483dac3ee21e",
   "metadata": {},
   "outputs": [
    {
     "name": "stderr",
     "output_type": "stream",
     "text": [
      "/var/folders/hs/v_hfp59n3lj2lq14fypgq3km0000gp/T/ipykernel_90573/2648176640.py:22: DeprecationWarning: Conversion of an array with ndim > 0 to a scalar is deprecated, and will error in future. Ensure you extract a single element from your array before performing this operation. (Deprecated NumPy 1.25.)\n",
      "  val_df.at[index, 'PredictedCategory'] = train_df.columns[1:].to_list()[int(np.argmax(final_output, axis=1))]\n",
      "/var/folders/hs/v_hfp59n3lj2lq14fypgq3km0000gp/T/ipykernel_90573/2648176640.py:22: FutureWarning: Setting an item of incompatible dtype is deprecated and will raise in a future error of pandas. Value 'Office Products' has dtype incompatible with float64, please explicitly cast to a compatible dtype first.\n",
      "  val_df.at[index, 'PredictedCategory'] = train_df.columns[1:].to_list()[int(np.argmax(final_output, axis=1))]\n",
      "/var/folders/hs/v_hfp59n3lj2lq14fypgq3km0000gp/T/ipykernel_90573/2648176640.py:22: DeprecationWarning: Conversion of an array with ndim > 0 to a scalar is deprecated, and will error in future. Ensure you extract a single element from your array before performing this operation. (Deprecated NumPy 1.25.)\n",
      "  val_df.at[index, 'PredictedCategory'] = train_df.columns[1:].to_list()[int(np.argmax(final_output, axis=1))]\n"
     ]
    },
    {
     "name": "stdout",
     "output_type": "stream",
     "text": [
      "Accuracy is: 0.8062691491868961\n"
     ]
    }
   ],
   "source": [
    "val_df['ActualCategory'] = val_df[target_list].idxmax(axis=1)\n",
    "for index, row in val_df.iterrows():\n",
    "    encodings = tokenizer.encode_plus(\n",
    "    row['Context'],\n",
    "    None,\n",
    "    add_special_tokens=True,\n",
    "    max_length=MAX_LEN,\n",
    "    padding='max_length',\n",
    "    return_token_type_ids=True,\n",
    "    truncation=True,\n",
    "    return_attention_mask=True,\n",
    "    return_tensors='pt'\n",
    "    )\n",
    "    trained_model.eval()\n",
    "    with torch.no_grad():\n",
    "        input_ids = encodings['input_ids'].to(device, dtype=torch.long)\n",
    "        attention_mask = encodings['attention_mask'].to(device, dtype=torch.long)\n",
    "        token_type_ids = encodings['token_type_ids'].to(device, dtype=torch.long)\n",
    "        output = model(input_ids, attention_mask, token_type_ids)\n",
    "        final_output = torch.sigmoid(output).cpu().detach().numpy().tolist()\n",
    "        val_df.at[index, 'PredictionScoreOrProbability'] = np.max(final_output)\n",
    "        val_df.at[index, 'PredictedCategory'] = train_df.columns[1:].to_list()[int(np.argmax(final_output, axis=1))]\n",
    "Accuracy = ((val_df['ActualCategory'] == val_df['PredictedCategory']).sum())/val_df.shape[0]\n",
    "print(f\"Accuracy is: {Accuracy}\")"
   ]
  },
  {
   "cell_type": "code",
   "execution_count": 84,
   "id": "42cfd81f-e804-4780-afaf-5ad94b38dbb8",
   "metadata": {},
   "outputs": [
    {
     "name": "stdout",
     "output_type": "stream",
     "text": [
      "Precision is: 0.8275086499079471\n",
      "Recall is: 0.8542101514401468\n"
     ]
    }
   ],
   "source": [
    "total_precision = 0\n",
    "total_recall = 0\n",
    "# classes with no class imbalance issue\n",
    "target_list1 = ['Fashion','Home','Automotive','Tools & Home Improvement','Sports & Outdoors','All Beauty','Office Products','Toys & Games']     \n",
    "for category in target_list1:\n",
    "    tp = ((val_df['ActualCategory'] == category) & (val_df['PredictedCategory'] == category)).sum()\n",
    "    fp = ((val_df['ActualCategory'] != category) & (val_df['PredictedCategory'] == category)).sum()\n",
    "    fn = ((val_df['ActualCategory'] == category) & (val_df['PredictedCategory'] != category)).sum()\n",
    "    precision = tp/(tp+fp)\n",
    "    recall = tp/(tp+fn)\n",
    "    total_precision += precision\n",
    "    total_recall += recall\n",
    "print(f\"Precision is: {total_precision/len(target_list1)}\")\n",
    "print(f\"Recall is: {total_recall/len(target_list1)}\")"
   ]
  },
  {
   "cell_type": "markdown",
   "id": "a5e312fc-40ae-4a0e-a691-5f5f04598181",
   "metadata": {},
   "source": [
    "## Running predictions on the products_unlabeled.json and generating the CSV file"
   ]
  },
  {
   "cell_type": "code",
   "execution_count": 30,
   "id": "a4230e9e-c477-42e7-9a10-6d2310474669",
   "metadata": {},
   "outputs": [
    {
     "name": "stderr",
     "output_type": "stream",
     "text": [
      "/var/folders/hs/v_hfp59n3lj2lq14fypgq3km0000gp/T/ipykernel_90573/2767294049.py:24: DeprecationWarning: Conversion of an array with ndim > 0 to a scalar is deprecated, and will error in future. Ensure you extract a single element from your array before performing this operation. (Deprecated NumPy 1.25.)\n",
      "  test_df.at[index, 'PredictedCategory'] = train_df.columns[1:].to_list()[int(np.argmax(final_output, axis=1))]\n",
      "/var/folders/hs/v_hfp59n3lj2lq14fypgq3km0000gp/T/ipykernel_90573/2767294049.py:24: FutureWarning: Setting an item of incompatible dtype is deprecated and will raise in a future error of pandas. Value 'Arts, Crafts & Sewing' has dtype incompatible with float64, please explicitly cast to a compatible dtype first.\n",
      "  test_df.at[index, 'PredictedCategory'] = train_df.columns[1:].to_list()[int(np.argmax(final_output, axis=1))]\n",
      "/var/folders/hs/v_hfp59n3lj2lq14fypgq3km0000gp/T/ipykernel_90573/2767294049.py:24: DeprecationWarning: Conversion of an array with ndim > 0 to a scalar is deprecated, and will error in future. Ensure you extract a single element from your array before performing this operation. (Deprecated NumPy 1.25.)\n",
      "  test_df.at[index, 'PredictedCategory'] = train_df.columns[1:].to_list()[int(np.argmax(final_output, axis=1))]\n"
     ]
    }
   ],
   "source": [
    "test_df = pd.read_json('products_unlabeled.json')\n",
    "test_df['Context'] = test_df['Title'] + \" . \" + test_df['Manufacturer']\n",
    "test_df = test_df[['Context','Manufacturer','SKU']]\n",
    "for index, row in test_df.iterrows():\n",
    "    encodings = tokenizer.encode_plus(\n",
    "    row['Context'],\n",
    "    None,\n",
    "    add_special_tokens=True,\n",
    "    max_length=MAX_LEN,\n",
    "    padding='max_length',\n",
    "    return_token_type_ids=True,\n",
    "    truncation=True,\n",
    "    return_attention_mask=True,\n",
    "    return_tensors='pt'\n",
    "    )\n",
    "    trained_model.eval()\n",
    "    with torch.no_grad():\n",
    "        input_ids = encodings['input_ids'].to(device, dtype=torch.long)\n",
    "        attention_mask = encodings['attention_mask'].to(device, dtype=torch.long)\n",
    "        token_type_ids = encodings['token_type_ids'].to(device, dtype=torch.long)\n",
    "        output = model(input_ids, attention_mask, token_type_ids)\n",
    "        final_output = torch.sigmoid(output).cpu().detach().numpy().tolist()\n",
    "        test_df.at[index, 'PredictionScoreOrProbability'] = np.max(final_output)\n",
    "        test_df.at[index, 'PredictedCategory'] = train_df.columns[1:].to_list()[int(np.argmax(final_output, axis=1))]\n",
    "test_df = test_df[['Manufacturer','SKU','PredictedCategory','PredictionScoreOrProbability']]\n",
    "test_df.to_csv('predictions.csv', index=True)"
   ]
  },
  {
   "cell_type": "code",
   "execution_count": null,
   "id": "93ea78fa-4007-4cb3-8bdb-40156fa13773",
   "metadata": {},
   "outputs": [],
   "source": []
  }
 ],
 "metadata": {
  "kernelspec": {
   "display_name": "Python 3 (ipykernel)",
   "language": "python",
   "name": "python3"
  },
  "language_info": {
   "codemirror_mode": {
    "name": "ipython",
    "version": 3
   },
   "file_extension": ".py",
   "mimetype": "text/x-python",
   "name": "python",
   "nbconvert_exporter": "python",
   "pygments_lexer": "ipython3",
   "version": "3.9.6"
  }
 },
 "nbformat": 4,
 "nbformat_minor": 5
}
